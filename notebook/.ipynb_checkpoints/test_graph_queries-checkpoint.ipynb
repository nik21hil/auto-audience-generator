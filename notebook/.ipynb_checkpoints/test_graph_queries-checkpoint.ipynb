{
 "cells": [
  {
   "cell_type": "code",
   "execution_count": 1,
   "id": "532032ae-cbc4-4a31-87b6-641fd83057a4",
   "metadata": {},
   "outputs": [
    {
     "name": "stdout",
     "output_type": "stream",
     "text": [
      "Requirement already satisfied: sentence-transformers in /opt/conda/lib/python3.12/site-packages (4.1.0)\n",
      "Requirement already satisfied: transformers<5.0.0,>=4.41.0 in /opt/conda/lib/python3.12/site-packages (from sentence-transformers) (4.51.3)\n",
      "Requirement already satisfied: tqdm in /opt/conda/lib/python3.12/site-packages (from sentence-transformers) (4.67.1)\n",
      "Requirement already satisfied: torch>=1.11.0 in /opt/conda/lib/python3.12/site-packages (from sentence-transformers) (2.5.1)\n",
      "Requirement already satisfied: scikit-learn in /opt/conda/lib/python3.12/site-packages (from sentence-transformers) (1.5.2)\n",
      "Requirement already satisfied: scipy in /opt/conda/lib/python3.12/site-packages (from sentence-transformers) (1.15.2)\n",
      "Requirement already satisfied: huggingface-hub>=0.20.0 in /opt/conda/lib/python3.12/site-packages (from sentence-transformers) (0.30.2)\n",
      "Requirement already satisfied: Pillow in /opt/conda/lib/python3.12/site-packages (from sentence-transformers) (11.1.0)\n",
      "Requirement already satisfied: typing_extensions>=4.5.0 in /opt/conda/lib/python3.12/site-packages (from sentence-transformers) (4.13.2)\n",
      "Requirement already satisfied: filelock in /opt/conda/lib/python3.12/site-packages (from huggingface-hub>=0.20.0->sentence-transformers) (3.18.0)\n",
      "Requirement already satisfied: fsspec>=2023.5.0 in /opt/conda/lib/python3.12/site-packages (from huggingface-hub>=0.20.0->sentence-transformers) (2024.10.0)\n",
      "Requirement already satisfied: packaging>=20.9 in /opt/conda/lib/python3.12/site-packages (from huggingface-hub>=0.20.0->sentence-transformers) (24.2)\n",
      "Requirement already satisfied: pyyaml>=5.1 in /opt/conda/lib/python3.12/site-packages (from huggingface-hub>=0.20.0->sentence-transformers) (6.0.2)\n",
      "Requirement already satisfied: requests in /opt/conda/lib/python3.12/site-packages (from huggingface-hub>=0.20.0->sentence-transformers) (2.32.3)\n",
      "Requirement already satisfied: setuptools in /opt/conda/lib/python3.12/site-packages (from torch>=1.11.0->sentence-transformers) (80.1.0)\n",
      "Requirement already satisfied: sympy!=1.13.2,>=1.13.1 in /opt/conda/lib/python3.12/site-packages (from torch>=1.11.0->sentence-transformers) (1.14.0)\n",
      "Requirement already satisfied: networkx in /opt/conda/lib/python3.12/site-packages (from torch>=1.11.0->sentence-transformers) (3.4.2)\n",
      "Requirement already satisfied: jinja2 in /opt/conda/lib/python3.12/site-packages (from torch>=1.11.0->sentence-transformers) (3.1.6)\n",
      "Requirement already satisfied: numpy>=1.17 in /opt/conda/lib/python3.12/site-packages (from transformers<5.0.0,>=4.41.0->sentence-transformers) (1.26.4)\n",
      "Requirement already satisfied: regex!=2019.12.17 in /opt/conda/lib/python3.12/site-packages (from transformers<5.0.0,>=4.41.0->sentence-transformers) (2024.11.6)\n",
      "Requirement already satisfied: tokenizers<0.22,>=0.21 in /opt/conda/lib/python3.12/site-packages (from transformers<5.0.0,>=4.41.0->sentence-transformers) (0.21.1)\n",
      "Requirement already satisfied: safetensors>=0.4.3 in /opt/conda/lib/python3.12/site-packages (from transformers<5.0.0,>=4.41.0->sentence-transformers) (0.5.3)\n",
      "Requirement already satisfied: joblib>=1.2.0 in /opt/conda/lib/python3.12/site-packages (from scikit-learn->sentence-transformers) (1.5.0)\n",
      "Requirement already satisfied: threadpoolctl>=3.1.0 in /opt/conda/lib/python3.12/site-packages (from scikit-learn->sentence-transformers) (3.6.0)\n",
      "Requirement already satisfied: mpmath<1.4,>=1.1.0 in /opt/conda/lib/python3.12/site-packages (from sympy!=1.13.2,>=1.13.1->torch>=1.11.0->sentence-transformers) (1.3.0)\n",
      "Requirement already satisfied: MarkupSafe>=2.0 in /opt/conda/lib/python3.12/site-packages (from jinja2->torch>=1.11.0->sentence-transformers) (3.0.2)\n",
      "Requirement already satisfied: charset_normalizer<4,>=2 in /opt/conda/lib/python3.12/site-packages (from requests->huggingface-hub>=0.20.0->sentence-transformers) (3.4.2)\n",
      "Requirement already satisfied: idna<4,>=2.5 in /opt/conda/lib/python3.12/site-packages (from requests->huggingface-hub>=0.20.0->sentence-transformers) (3.10)\n",
      "Requirement already satisfied: urllib3<3,>=1.21.1 in /opt/conda/lib/python3.12/site-packages (from requests->huggingface-hub>=0.20.0->sentence-transformers) (2.4.0)\n",
      "Requirement already satisfied: certifi>=2017.4.17 in /opt/conda/lib/python3.12/site-packages (from requests->huggingface-hub>=0.20.0->sentence-transformers) (2025.1.31)\n"
     ]
    }
   ],
   "source": [
    "!pip install -U sentence-transformers"
   ]
  },
  {
   "cell_type": "code",
   "execution_count": 2,
   "id": "b6b5316f-da18-4e68-b479-cdb1bfa6fcd5",
   "metadata": {},
   "outputs": [
    {
     "name": "stderr",
     "output_type": "stream",
     "text": [
      "2025-05-26 00:33:41.574450: I tensorflow/core/platform/cpu_feature_guard.cc:210] This TensorFlow binary is optimized to use available CPU instructions in performance-critical operations.\n",
      "To enable the following instructions: SSE4.1 SSE4.2 AVX AVX2 AVX512F FMA, in other operations, rebuild TensorFlow with the appropriate compiler flags.\n"
     ]
    }
   ],
   "source": [
    "from sentence_transformers import SentenceTransformer, util\n",
    "\n",
    "# Load once globally\n",
    "embedding_model = SentenceTransformer(\"all-MiniLM-L6-v2\") "
   ]
  },
  {
   "cell_type": "code",
   "execution_count": 3,
   "id": "34a60dea-6929-43bb-a295-868b71107061",
   "metadata": {},
   "outputs": [],
   "source": [
    "import json\n",
    "import re\n",
    "import openai\n",
    "import os\n",
    "os.environ[\"OPENROUTER_API_KEY\"] = \"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\"\n",
    "#os.environ[\"OPENAI_API_KEY\"] = \"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\"\n",
    "import json5\n",
    "import pandas as pd\n",
    "import numpy as np\n",
    "import random\n",
    "import sys\n",
    "sys.path.append(os.path.abspath(\"..\"))\n",
    "import matplotlib.pyplot as plt\n",
    "import networkx as nx"
   ]
  },
  {
   "cell_type": "code",
   "execution_count": 4,
   "id": "469974eb-5dfe-49e4-ba81-debe97df61e4",
   "metadata": {},
   "outputs": [
    {
     "data": {
      "text/plain": [
       "<module 'src.semantic_matcher' from '/home/sagemaker-user/auto-audience-generator/src/semantic_matcher.py'>"
      ]
     },
     "execution_count": 4,
     "metadata": {},
     "output_type": "execute_result"
    }
   ],
   "source": [
    "import importlib\n",
    "import src.graph_builder\n",
    "import src.graph_queries\n",
    "import src.prompt_to_rules\n",
    "import src.semantic_matcher\n",
    "importlib.reload(src.graph_queries)\n",
    "importlib.reload(src.prompt_to_rules)\n",
    "importlib.reload(src.semantic_matcher)"
   ]
  },
  {
   "cell_type": "code",
   "execution_count": 5,
   "id": "5edf3eb5-49c4-4ad3-bcb1-a8528007b367",
   "metadata": {},
   "outputs": [],
   "source": [
    "from src.graph_builder import build_knowledge_graph_from_config\n",
    "from src.graph_queries import apply_persona_to_graph\n",
    "from src.graph_queries import apply_logical_rule\n",
    "from src.prompt_to_rules import extract_rules_from_prompt_llm2\n",
    "from src.prompt_to_rules import extract_rules_from_prompt_llm3_old\n",
    "from src.prompt_to_rules import extract_rules_from_prompt_llm3\n",
    "from src.semantic_matcher import SemanticMatcher"
   ]
  },
  {
   "cell_type": "code",
   "execution_count": 6,
   "id": "1af0e8b9-794b-4abe-8ddf-561078c83c81",
   "metadata": {},
   "outputs": [],
   "source": [
    "# Re-run after code execution environment reset\n",
    "\n",
    "import pandas as pd\n",
    "import numpy as np\n",
    "import random\n",
    "from datetime import timedelta\n",
    "\n",
    "# Set seed for reproducibility\n",
    "np.random.seed(42)\n",
    "random.seed(42)\n",
    "\n",
    "# Number of records\n",
    "num_users = 1000\n",
    "num_products = 500\n",
    "num_orders = 3000\n",
    "num_streaming = 3000\n",
    "\n",
    "# Generate Users Dataset\n",
    "user_ids = [f\"user_{i}\" for i in range(num_users)]\n",
    "ages = np.random.randint(18, 80, size=num_users)\n",
    "genders = np.random.choice(['Male', 'Female', 'Other'], size=num_users)\n",
    "locations = np.random.choice([\n",
    "    'California', 'New York', 'Texas', 'Florida', 'Illinois', 'Washington', 'Massachusetts',\n",
    "    'Georgia', 'Ohio', 'Colorado', 'Nevada', 'Arizona', 'Michigan', 'Pennsylvania'\n",
    "], size=num_users)\n",
    "education_levels = np.random.choice(['High School', 'Bachelor', 'Master', 'PhD', 'College Senior'], size=num_users)\n",
    "\n",
    "users_df = pd.DataFrame({\n",
    "    'user_id': user_ids,\n",
    "    'age': ages,\n",
    "    'gender': genders,\n",
    "    'location': locations,\n",
    "    'education_level': education_levels\n",
    "})\n",
    "users_df.to_csv(\"../data/users.csv\", index=False)\n",
    "\n",
    "# Generate Products Dataset\n",
    "product_ids = [f\"prod_{i}\" for i in range(num_products)]\n",
    "categories = np.random.choice([\n",
    "    'Electronics', 'Books', 'Fitness', 'Crypto', 'Gaming', 'Clothing', 'Education', 'Travel', 'Home', 'Health'\n",
    "], size=num_products)\n",
    "tags = np.random.choice([\n",
    "    'blockchain', 'sports', 'AI', 'yoga', 'finance', 'career', 'fitness', 'crypto', 'reading', 'adventure', 'tech'\n",
    "], size=num_products)\n",
    "\n",
    "products_df = pd.DataFrame({\n",
    "    'product_id': product_ids,\n",
    "    'category': categories,\n",
    "    'tag': tags\n",
    "})\n",
    "products_df.to_csv(\"../data/products.csv\", index=False)\n",
    "\n",
    "# Generate Orders Dataset\n",
    "orders = []\n",
    "for i in range(num_orders):\n",
    "    orders.append({\n",
    "        'user_id': random.choice(user_ids),\n",
    "        'order_id': f\"order_{i}\",\n",
    "        'product_id': random.choice(product_ids),\n",
    "        'order_date': pd.Timestamp('2024-01-01') + timedelta(days=random.randint(0, 180))\n",
    "    })\n",
    "orders_df = pd.DataFrame(orders)\n",
    "orders_df.to_csv(\"../data/orders.csv\", index=False)\n",
    "\n",
    "# Generate Streaming Dataset\n",
    "content_names = [f\"content_{i}\" for i in range(500)]\n",
    "genres = np.random.choice([\n",
    "    'sports', 'technology', 'comedy', 'self-help', 'drama', 'thriller', 'action', 'education', 'news', 'finance', 'documentary'\n",
    "], size=500)\n",
    "streaming = []\n",
    "for i in range(num_streaming):\n",
    "    streaming.append({\n",
    "        'user_id': random.choice(user_ids),\n",
    "        'content_name': random.choice(content_names),\n",
    "        'timestamp': pd.Timestamp('2024-01-01') + timedelta(days=random.randint(0, 180)),\n",
    "        'genre': random.choice(genres),\n",
    "        'watch_duration': random.randint(5, 180)\n",
    "    })\n",
    "streaming_df = pd.DataFrame(streaming)\n",
    "streaming_df.to_csv(\"../data/streaming.csv\", index=False)"
   ]
  },
  {
   "cell_type": "code",
   "execution_count": 7,
   "id": "abc607f2-5546-420d-9514-7e6ad6822dd9",
   "metadata": {},
   "outputs": [
    {
     "name": "stdout",
     "output_type": "stream",
     "text": [
      "✅ Graph successfully created\n",
      "Number of nodes: 2019\n",
      "Number of edges: 8779\n"
     ]
    }
   ],
   "source": [
    "G = build_knowledge_graph_from_config(\n",
    "    \"../src/graph_schema.json\",\n",
    "    {\n",
    "        \"users\": \"../data/users.csv\",\n",
    "        \"products\": \"../data/products.csv\",\n",
    "        \"orders\": \"../data/orders.csv\",\n",
    "        \"streaming\": \"../data/streaming.csv\"\n",
    "    }\n",
    ")"
   ]
  },
  {
   "cell_type": "code",
   "execution_count": 8,
   "id": "8dec95c3-7966-42a1-8ff1-0764387d4edc",
   "metadata": {},
   "outputs": [
    {
     "data": {
      "image/png": "[encoded data removed]",
      "text/plain": [
       "<Figure size 1000x600 with 1 Axes>"
      ]
     },
     "metadata": {},
     "output_type": "display_data"
    }
   ],
   "source": [
    "sub_nodes = list(G.successors('user_0')) + ['user_0']\n",
    "subgraph = G.subgraph(sub_nodes)\n",
    "\n",
    "plt.figure(figsize=(10, 6))\n",
    "nx.draw(subgraph, with_labels=True, node_size=800, node_color='lightblue', font_size=10)\n",
    "plt.title(\"Subgraph around user_0\")\n",
    "plt.show()"
   ]
  },
  {
   "cell_type": "code",
   "execution_count": 9,
   "id": "19303f82-e745-4c49-b6f3-7d2200e39ac5",
   "metadata": {},
   "outputs": [
    {
     "name": "stdout",
     "output_type": "stream",
     "text": [
      "Extracted Persona Rule: {'persona': {'tag': ['blockchain', 'crypto', 'cryptocurrency'], 'genre': ['technology', 'finance']}}\n",
      "Final Audience: {'user_377', 'user_319', 'user_300', 'user_722', 'user_782', 'user_474', 'user_184', 'user_991', 'user_972', 'user_291', 'user_239', 'user_258', 'user_464', 'user_764', 'user_399', 'user_168', 'user_106', 'user_119', 'user_808', 'user_53', 'user_63', 'user_435', 'user_36', 'user_426', 'user_821', 'user_60', 'user_924', 'user_749', 'user_940', 'user_835', 'user_436', 'user_772', 'user_656', 'user_415', 'user_442', 'user_150', 'user_109', 'user_554', 'user_864', 'user_814', 'user_191', 'user_52', 'user_766', 'user_750', 'user_354', 'user_462', 'user_74', 'user_264', 'user_135', 'user_293', 'user_752', 'user_389', 'user_84', 'user_307', 'user_466', 'user_804', 'user_574', 'user_963', 'user_194', 'user_585', 'user_395', 'user_308', 'user_39', 'user_295', 'user_819', 'user_667', 'user_230', 'user_848', 'user_637', 'user_616', 'user_434', 'user_471', 'user_479', 'user_487', 'user_491', 'user_496', 'user_605', 'user_220', 'user_282', 'user_175', 'user_465', 'user_523', 'user_849', 'user_324', 'user_892', 'user_249', 'user_856', 'user_266', 'user_785', 'user_855', 'user_306', 'user_390', 'user_823', 'user_61', 'user_140', 'user_233', 'user_803', 'user_102', 'user_165', 'user_392', 'user_170', 'user_634', 'user_541', 'user_141', 'user_641', 'user_316', 'user_743', 'user_957', 'user_996', 'user_997', 'user_504', 'user_205', 'user_200', 'user_841', 'user_840', 'user_62', 'user_186', 'user_376', 'user_455', 'user_538', 'user_987', 'user_188', 'user_654', 'user_702', 'user_761', 'user_854', 'user_948', 'user_251', 'user_204', 'user_748', 'user_385', 'user_128', 'user_679', 'user_192', 'user_970', 'user_484', 'user_285', 'user_134', 'user_409', 'user_610', 'user_506', 'user_287', 'user_181', 'user_680', 'user_947', 'user_387', 'user_877', 'user_668', 'user_850', 'user_292', 'user_311', 'user_813', 'user_67', 'user_481', 'user_609', 'user_838', 'user_356', 'user_113', 'user_516', 'user_71', 'user_422', 'user_207', 'user_676', 'user_171', 'user_631', 'user_646', 'user_489', 'user_934', 'user_16', 'user_38', 'user_899', 'user_423', 'user_956', 'user_250', 'user_886', 'user_197', 'user_456', 'user_993', 'user_910', 'user_512', 'user_273', 'user_635', 'user_900', 'user_432', 'user_9', 'user_802', 'user_742', 'user_942', 'user_918', 'user_675', 'user_31', 'user_890', 'user_139', 'user_183', 'user_978', 'user_320', 'user_745', 'user_779', 'user_529', 'user_30', 'user_965', 'user_620', 'user_532', 'user_946', 'user_347', 'user_144', 'user_857', 'user_118', 'user_510', 'user_254', 'user_760', 'user_597', 'user_898', 'user_721', 'user_286', 'user_227', 'user_210', 'user_971', 'user_163', 'user_301', 'user_357', 'user_572', 'user_73', 'user_515', 'user_700', 'user_5', 'user_725', 'user_443', 'user_154', 'user_587', 'user_80', 'user_133', 'user_550', 'user_343', 'user_55', 'user_969', 'user_329', 'user_345', 'user_621', 'user_614', 'user_509', 'user_707', 'user_339', 'user_164', 'user_546', 'user_790', 'user_638', 'user_64', 'user_398', 'user_778', 'user_321', 'user_664', 'user_536', 'user_805', 'user_728', 'user_26', 'user_460', 'user_867', 'user_37', 'user_909', 'user_294', 'user_834', 'user_832', 'user_903', 'user_86', 'user_519', 'user_727', 'user_897', 'user_131', 'user_533', 'user_873', 'user_428', 'user_138', 'user_717', 'user_499', 'user_884', 'user_448', 'user_789', 'user_959', 'user_577', 'user_771', 'user_851', 'user_361', 'user_817', 'user_108', 'user_868', 'user_348', 'user_712', 'user_718', 'user_683', 'user_902', 'user_232', 'user_520', 'user_234', 'user_945', 'user_375', 'user_259', 'user_643', 'user_174', 'user_267', 'user_640', 'user_688', 'user_156', 'user_299', 'user_288', 'user_652', 'user_666', 'user_490', 'user_159', 'user_537', 'user_630', 'user_796', 'user_836', 'user_414', 'user_977', 'user_476', 'user_608', 'user_105', 'user_498', 'user_784', 'user_72', 'user_586', 'user_151', 'user_866', 'user_663', 'user_693', 'user_129', 'user_825', 'user_270', 'user_100', 'user_13', 'user_157', 'user_528', 'user_690', 'user_143', 'user_719', 'user_953', 'user_19', 'user_244', 'user_758', 'user_360', 'user_7', 'user_335', 'user_346', 'user_939', 'user_561', 'user_337', 'user_304', 'user_500', 'user_369', 'user_843', 'user_653', 'user_95', 'user_514', 'user_623', 'user_552', 'user_671', 'user_477', 'user_811', 'user_187', 'user_715', 'user_203', 'user_563', 'user_453', 'user_326', 'user_852', 'user_736', 'user_801', 'user_865', 'user_632', 'user_116', 'user_277', 'user_648', 'user_305', 'user_211', 'user_179', 'user_44', 'user_198', 'user_365', 'user_565', 'user_91', 'user_379', 'user_786', 'user_427', 'user_828', 'user_303', 'user_508', 'user_83', 'user_904', 'user_964', 'user_734', 'user_540', 'user_243', 'user_48', 'user_182', 'user_430', 'user_468', 'user_180', 'user_571', 'user_93', 'user_368', 'user_27'}\n"
     ]
    }
   ],
   "source": [
    "prompt = \"Find crypto enthusiasts\"\n",
    "rules = extract_rules_from_prompt_llm2(prompt)\n",
    "print(\"Extracted Persona Rule:\", rules)\n",
    "\n",
    "audience = apply_persona_to_graph(G, rules[\"persona\"])\n",
    "print(\"Final Audience:\", audience)"
   ]
  },
  {
   "cell_type": "code",
   "execution_count": 10,
   "id": "b8ff9385-c492-4fb8-9947-162fba5b1f4f",
   "metadata": {},
   "outputs": [
    {
     "name": "stdout",
     "output_type": "stream",
     "text": [
      "Extracted Persona Rule: {'persona': {'education_level': 'College Graduate or Higher', 'tag': ['investing', 'finance'], 'genre': ['business', 'finance']}}\n",
      "Final Audience: {'user_377', 'user_878', 'user_319', 'user_511', 'user_501', 'user_300', 'user_367', 'user_722', 'user_136', 'user_806', 'user_562', 'user_782', 'user_474', 'user_943', 'user_386', 'user_195', 'user_777', 'user_184', 'user_762', 'user_919', 'user_991', 'user_279', 'user_972', 'user_29', 'user_291', 'user_25', 'user_239', 'user_236', 'user_206', 'user_258', 'user_464', 'user_274', 'user_313', 'user_764', 'user_976', 'user_399', 'user_650', 'user_488', 'user_168', 'user_503', 'user_21', 'user_106', 'user_628', 'user_81', 'user_518', 'user_791', 'user_710', 'user_431', 'user_767', 'user_45', 'user_844', 'user_162', 'user_930', 'user_808', 'user_394', 'user_691', 'user_467', 'user_53', 'user_290', 'user_63', 'user_435', 'user_644', 'user_36', 'user_132', 'user_426', 'user_821', 'user_333', 'user_60', 'user_924', 'user_749', 'user_940', 'user_486', 'user_600', 'user_576', 'user_876', 'user_49', 'user_588', 'user_835', 'user_436', 'user_312', 'user_656', 'user_544', 'user_415', 'user_416', 'user_442', 'user_580', 'user_150', 'user_639', 'user_109', 'user_359', 'user_554', 'user_864', 'user_245', 'user_252', 'user_191', 'user_814', 'user_611', 'user_766', 'user_793', 'user_907', 'user_556', 'user_750', 'user_926', 'user_237', 'user_354', 'user_575', 'user_462', 'user_534', 'user_535', 'user_74', 'user_264', 'user_601', 'user_135', 'user_293', 'user_714', 'user_454', 'user_137', 'user_221', 'user_752', 'user_240', 'user_84', 'user_307', 'user_69', 'user_272', 'user_466', 'user_98', 'user_574', 'user_699', 'user_804', 'user_950', 'user_963', 'user_215', 'user_349', 'user_194', 'user_826', 'user_732', 'user_585', 'user_657', 'user_433', 'user_525', 'user_167', 'user_395', 'user_308', 'user_39', 'user_419', 'user_461', 'user_705', 'user_405', 'user_839', 'user_295', 'user_967', 'user_770', 'user_89', 'user_41', 'user_677', 'user_773', 'user_43', 'user_819', 'user_780', 'user_687', 'user_230', 'user_923', 'user_103', 'user_670', 'user_637', 'user_616', 'user_471', 'user_781', 'user_479', 'user_33', 'user_56', 'user_974', 'user_487', 'user_788', 'user_912', 'user_491', 'user_496', 'user_872', 'user_437', 'user_880', 'user_605', 'user_396', 'user_220', 'user_589', 'user_282', 'user_175', 'user_756', 'user_827', 'user_465', 'user_885', 'user_523', 'user_849', 'user_381', 'user_992', 'user_701', 'user_6', 'user_324', 'user_104', 'user_860', 'user_298', 'user_249', 'user_42', 'user_856', 'user_478', 'user_322', 'user_121', 'user_229', 'user_266', 'user_785', 'user_730', 'user_759', 'user_855', 'user_306', 'user_390', 'user_792', 'user_823', 'user_61', 'user_99', 'user_223', 'user_233', 'user_14', 'user_803', 'user_102', 'user_871', 'user_165', 'user_392', 'user_170', 'user_634', 'user_475', 'user_541', 'user_141', 'user_1', 'user_894', 'user_641', 'user_316', 'user_913', 'user_743', 'user_92', 'user_996', 'user_555', 'user_951', 'user_809', 'user_281', 'user_997', 'user_542', 'user_658', 'user_716', 'user_459', 'user_504', 'user_146', 'user_200', 'user_66', 'user_205', 'user_841', 'user_147', 'user_840', 'user_62', 'user_186', 'user_376', 'user_538', 'user_987', 'user_625', 'user_455', 'user_193', 'user_188', 'user_315', 'user_654', 'user_702', 'user_723', 'user_246', 'user_50', 'user_893', 'user_891', 'user_599', 'user_323', 'user_566', 'user_251', 'user_204', 'user_748', 'user_854', 'user_385', 'user_948', 'user_128', 'user_935', 'user_679', 'user_192', 'user_929', 'user_970', 'user_336', 'user_553', 'user_269', 'user_134', 'user_285', 'user_32', 'user_409', 'user_610', 'user_506', 'user_287', 'user_181', 'user_262', 'user_362', 'user_401', 'user_680', 'user_947', 'user_387', 'user_583', 'user_877', 'user_668', 'user_214', 'user_850', 'user_584', 'user_292', 'user_332', 'user_954', 'user_311', 'user_57', 'user_813', 'user_961', 'user_67', 'user_481', 'user_216', 'user_383', 'user_492', 'user_609', 'user_838', 'user_952', 'user_257', 'user_263', 'user_407', 'user_741', 'user_356', 'user_166', 'user_517', 'user_516', 'user_911', 'user_101', 'user_598', 'user_71', 'user_422', 'user_114', 'user_207', 'user_334', 'user_676', 'user_495', 'user_112', 'user_859', 'user_117', 'user_171', 'user_631', 'user_593', 'user_646', 'user_489', 'user_698', 'user_934', 'user_995', 'user_314', 'user_16', 'user_440', 'user_545', 'user_607', 'user_899', 'user_627', 'user_145', 'user_423', 'user_956', 'user_619', 'user_250', 'user_458', 'user_417', 'user_40', 'user_160', 'user_342', 'user_470', 'user_231', 'user_886', 'user_8', 'user_617', 'user_882', 'user_197', 'user_309', 'user_456', 'user_990', 'user_512', 'user_224', 'user_596', 'user_372', 'user_273', 'user_689', 'user_411', 'user_413', 'user_875', 'user_635', 'user_900', 'user_370', 'user_432', 'user_633', 'user_9', 'user_746', 'user_768', 'user_802', 'user_742', 'user_942', 'user_973', 'user_697', 'user_918', 'user_127', 'user_675', 'user_31', 'user_837', 'user_890', 'user_824', 'user_183', 'user_366', 'user_988', 'user_978', 'user_502', 'user_330', 'user_320', 'user_745', 'user_905', 'user_283', 'user_529', 'user_30', 'user_776', 'user_620', 'user_532', 'user_946', 'user_347', 'user_144', 'user_857', 'user_118', 'user_444', 'user_774', 'user_202', 'user_82', 'user_944', 'user_548', 'user_254', 'user_941', 'user_760', 'user_507', 'user_450', 'user_513', 'user_176', 'user_744', 'user_597', 'user_358', 'user_753', 'user_721', 'user_196', 'user_696', 'user_286', 'user_120', 'user_927', 'user_227', 'user_916', 'user_622', 'user_822', 'user_210', 'user_820', 'user_971', 'user_163', 'user_301', 'user_357', 'user_932', 'user_572', 'user_310', 'user_378', 'user_901', 'user_917', 'user_318', 'user_726', 'user_20', 'user_73', 'user_515', 'user_700', 'user_5', 'user_775', 'user_107', 'user_725', 'user_443', 'user_154', 'user_684', 'user_587', 'user_80', 'user_133', 'user_403', 'user_550', 'user_642', 'user_343', 'user_551', 'user_649', 'user_672', 'user_969', 'user_235', 'user_581', 'user_115', 'user_729', 'user_659', 'user_329', 'user_420', 'user_914', 'user_621', 'user_482', 'user_241', 'user_614', 'user_382', 'user_130', 'user_275', 'user_209', 'user_509', 'user_989', 'user_695', 'user_833', 'user_339', 'user_735', 'user_164', 'user_546', 'user_708', 'user_790', 'user_638', 'user_64', 'user_11', 'user_446', 'user_388', 'user_406', 'user_398', 'user_778', 'user_321', 'user_805', 'user_536', 'user_579', 'user_560', 'user_728', 'user_68', 'user_863', 'user_26', 'user_624', 'user_733', 'user_460', 'user_867', 'user_765', 'user_739', 'user_37', 'user_981', 'user_85', 'user_818', 'user_909', 'user_737', 'user_294', 'user_412', 'user_829', 'user_810', 'user_18', 'user_590', 'user_485', 'user_832', 'user_834', 'user_903', 'user_949', 'user_418', 'user_815', 'user_86', 'user_686', 'user_24', 'user_447', 'user_519', 'user_908', 'user_172', 'user_591', 'user_757', 'user_148', 'user_530', 'user_713', 'user_612', 'user_727', 'user_276', 'user_685', 'user_897', 'user_131', 'user_533', 'user_798', 'user_873', 'user_896', 'user_87', 'user_428', 'user_979', 'user_355', 'user_645', 'user_986', 'user_615', 'user_380', 'user_980', 'user_799', 'user_125', 'user_138', 'user_717', 'user_499', 'user_448', 'user_789', 'user_213', 'user_959', 'user_265', 'user_297', 'user_228', 'user_271', 'user_771', 'user_851', 'user_408', 'user_361', 'user_817', 'user_4', 'user_108', 'user_256', 'user_868', 'user_592', 'user_348', 'user_564', 'user_712', 'user_483', 'user_613', 'user_962', 'user_718', 'user_755', 'user_232', 'user_902', 'user_234', 'user_945', 'user_325', 'user_375', 'user_208', 'user_280', 'user_830', 'user_259', 'user_28', 'user_643', 'user_149', 'user_174', 'user_267', 'user_155', 'user_678', 'user_688', 'user_156', 'user_110', 'user_711', 'user_526', 'user_288', 'user_567', 'user_652', 'user_222', 'user_606', 'user_666', 'user_391', 'user_90', 'user_968', 'user_490', 'user_724', 'user_159', 'user_537', 'user_630', 'user_861', 'user_836', 'user_982', 'user_414', 'user_706', 'user_977', 'user_476', 'user_105', 'user_595', 'user_921', 'user_278', 'user_498', 'user_662', 'user_784', 'user_72', 'user_586', 'user_212', 'user_681', 'user_763', 'user_425', 'user_151', 'user_769', 'user_866', 'user_663', 'user_693', 'user_463', 'user_126', 'user_129', 'user_825', 'user_270', 'user_847', 'user_100', 'user_955', 'user_931', 'user_673', 'user_13', 'user_157', 'user_260', 'user_472', 'user_528', 'user_690', 'user_143', 'user_494', 'user_719', 'user_740', 'user_19', 'user_244', 'user_758', 'user_360', 'user_7', 'user_59', 'user_451', 'user_346', 'user_340', 'user_939', 'user_289', 'user_561', 'user_54', 'user_720', 'user_304', 'user_500', 'user_369', 'user_787', 'user_843', 'user_547', 'user_925', 'user_665', 'user_653', 'user_95', 'user_846', 'user_933', 'user_655', 'user_514', 'user_623', 'user_261', 'user_552', 'user_247', 'user_189', 'user_531', 'user_457', 'user_671', 'user_477', 'user_811', 'user_187', 'user_715', 'user_203', 'user_351', 'user_960', 'user_563', 'user_453', 'user_682', 'user_152', 'user_338', 'user_3', 'user_326', 'user_852', 'user_618', 'user_736', 'user_703', 'user_801', 'user_865', 'user_225', 'user_738', 'user_632', 'user_116', 'user_568', 'user_870', 'user_648', 'user_660', 'user_305', 'user_211', 'user_169', 'user_661', 'user_179', 'user_122', 'user_124', 'user_582', 'user_754', 'user_123', 'user_44', 'user_371', 'user_521', 'user_365', 'user_565', 'user_800', 'user_111', 'user_91', 'user_379', 'user_786', 'user_828', 'user_751', 'user_427', 'user_317', 'user_303', 'user_397', 'user_505', 'user_83', 'user_508', 'user_557', 'user_603', 'user_904', 'user_964', 'user_734', 'user_540', 'user_243', 'user_182', 'user_97', 'user_468', 'user_674', 'user_180', 'user_938', 'user_571', 'user_93', 'user_543', 'user_421', 'user_747', 'user_350', 'user_368'}\n"
     ]
    }
   ],
   "source": [
    "prompt = \"Find users interested in investing\"\n",
    "rules = extract_rules_from_prompt_llm2(prompt)\n",
    "print(\"Extracted Persona Rule:\", rules)\n",
    "\n",
    "audience = apply_persona_to_graph(G, rules[\"persona\"])\n",
    "print(\"Final Audience:\", audience)"
   ]
  },
  {
   "cell_type": "code",
   "execution_count": 11,
   "id": "cd84aec4-e56b-4e63-a632-deca70d54ca5",
   "metadata": {},
   "outputs": [
    {
     "name": "stdout",
     "output_type": "stream",
     "text": [
      "Extracted Persona Rule: {'persona': {'education_level': 'High School or College', 'tag': ['education'], 'genre': ['education', 'career']}}\n",
      "Final Audience: {'user_377', 'user_878', 'user_511', 'user_501', 'user_300', 'user_393', 'user_367', 'user_136', 'user_806', 'user_782', 'user_474', 'user_647', 'user_943', 'user_386', 'user_184', 'user_762', 'user_919', 'user_991', 'user_279', 'user_972', 'user_29', 'user_291', 'user_25', 'user_239', 'user_236', 'user_424', 'user_206', 'user_464', 'user_274', 'user_313', 'user_764', 'user_976', 'user_650', 'user_488', 'user_168', 'user_503', 'user_21', 'user_106', 'user_628', 'user_81', 'user_177', 'user_518', 'user_791', 'user_710', 'user_119', 'user_431', 'user_153', 'user_45', 'user_162', 'user_394', 'user_691', 'user_53', 'user_290', 'user_63', 'user_435', 'user_644', 'user_0', 'user_36', 'user_132', 'user_426', 'user_821', 'user_333', 'user_60', 'user_327', 'user_749', 'user_940', 'user_486', 'user_600', 'user_576', 'user_469', 'user_876', 'user_588', 'user_835', 'user_436', 'user_312', 'user_772', 'user_656', 'user_544', 'user_416', 'user_442', 'user_983', 'user_150', 'user_639', 'user_109', 'user_359', 'user_554', 'user_864', 'user_245', 'user_252', 'user_364', 'user_191', 'user_814', 'user_611', 'user_52', 'user_766', 'user_793', 'user_926', 'user_556', 'user_237', 'user_354', 'user_575', 'user_874', 'user_534', 'user_535', 'user_74', 'user_264', 'user_601', 'user_578', 'user_23', 'user_293', 'user_714', 'user_454', 'user_221', 'user_752', 'user_984', 'user_199', 'user_240', 'user_389', 'user_858', 'user_84', 'user_307', 'user_69', 'user_272', 'user_466', 'user_98', 'user_574', 'user_699', 'user_804', 'user_963', 'user_215', 'user_349', 'user_194', 'user_826', 'user_732', 'user_585', 'user_657', 'user_433', 'user_525', 'user_167', 'user_395', 'user_308', 'user_39', 'user_419', 'user_461', 'user_705', 'user_405', 'user_839', 'user_967', 'user_770', 'user_89', 'user_41', 'user_677', 'user_773', 'user_43', 'user_842', 'user_493', 'user_449', 'user_667', 'user_780', 'user_923', 'user_230', 'user_103', 'user_404', 'user_670', 'user_637', 'user_616', 'user_434', 'user_471', 'user_781', 'user_479', 'user_33', 'user_974', 'user_487', 'user_788', 'user_912', 'user_491', 'user_496', 'user_704', 'user_872', 'user_437', 'user_880', 'user_605', 'user_396', 'user_220', 'user_589', 'user_282', 'user_175', 'user_17', 'user_756', 'user_827', 'user_429', 'user_465', 'user_885', 'user_523', 'user_906', 'user_381', 'user_992', 'user_701', 'user_816', 'user_324', 'user_104', 'user_892', 'user_860', 'user_298', 'user_249', 'user_42', 'user_856', 'user_478', 'user_322', 'user_121', 'user_229', 'user_266', 'user_785', 'user_730', 'user_759', 'user_855', 'user_306', 'user_390', 'user_792', 'user_823', 'user_61', 'user_99', 'user_223', 'user_140', 'user_233', 'user_14', 'user_803', 'user_102', 'user_871', 'user_165', 'user_75', 'user_392', 'user_170', 'user_895', 'user_475', 'user_441', 'user_634', 'user_141', 'user_894', 'user_641', 'user_316', 'user_913', 'user_743', 'user_92', 'user_957', 'user_996', 'user_549', 'user_951', 'user_998', 'user_809', 'user_281', 'user_997', 'user_542', 'user_658', 'user_716', 'user_459', 'user_146', 'user_200', 'user_205', 'user_147', 'user_840', 'user_602', 'user_186', 'user_455', 'user_538', 'user_625', 'user_193', 'user_966', 'user_654', 'user_702', 'user_761', 'user_723', 'user_246', 'user_50', 'user_893', 'user_891', 'user_599', 'user_323', 'user_566', 'user_251', 'user_204', 'user_854', 'user_385', 'user_128', 'user_192', 'user_929', 'user_970', 'user_344', 'user_484', 'user_553', 'user_269', 'user_134', 'user_285', 'user_32', 'user_409', 'user_610', 'user_181', 'user_262', 'user_362', 'user_401', 'user_680', 'user_947', 'user_387', 'user_583', 'user_877', 'user_668', 'user_238', 'user_214', 'user_850', 'user_584', 'user_292', 'user_797', 'user_954', 'user_311', 'user_57', 'user_813', 'user_961', 'user_481', 'user_216', 'user_383', 'user_492', 'user_609', 'user_838', 'user_952', 'user_257', 'user_263', 'user_407', 'user_741', 'user_356', 'user_166', 'user_113', 'user_516', 'user_911', 'user_101', 'user_598', 'user_71', 'user_422', 'user_114', 'user_334', 'user_676', 'user_112', 'user_859', 'user_219', 'user_117', 'user_171', 'user_631', 'user_593', 'user_646', 'user_489', 'user_698', 'user_934', 'user_995', 'user_353', 'user_314', 'user_16', 'user_440', 'user_545', 'user_38', 'user_607', 'user_899', 'user_627', 'user_145', 'user_423', 'user_956', 'user_619', 'user_250', 'user_458', 'user_417', 'user_40', 'user_160', 'user_342', 'user_470', 'user_190', 'user_231', 'user_8', 'user_617', 'user_853', 'user_882', 'user_197', 'user_990', 'user_993', 'user_910', 'user_512', 'user_224', 'user_596', 'user_372', 'user_273', 'user_689', 'user_411', 'user_413', 'user_875', 'user_635', 'user_900', 'user_65', 'user_370', 'user_432', 'user_573', 'user_633', 'user_9', 'user_768', 'user_802', 'user_742', 'user_942', 'user_973', 'user_697', 'user_918', 'user_127', 'user_675', 'user_837', 'user_890', 'user_139', 'user_824', 'user_183', 'user_366', 'user_988', 'user_978', 'user_569', 'user_502', 'user_330', 'user_320', 'user_328', 'user_745', 'user_779', 'user_905', 'user_283', 'user_529', 'user_883', 'user_30', 'user_776', 'user_965', 'user_445', 'user_620', 'user_532', 'user_946', 'user_347', 'user_144', 'user_857', 'user_118', 'user_444', 'user_774', 'user_202', 'user_82', 'user_888', 'user_944', 'user_548', 'user_510', 'user_254', 'user_941', 'user_760', 'user_507', 'user_450', 'user_513', 'user_176', 'user_744', 'user_597', 'user_358', 'user_753', 'user_898', 'user_721', 'user_196', 'user_696', 'user_286', 'user_120', 'user_227', 'user_916', 'user_622', 'user_822', 'user_210', 'user_820', 'user_971', 'user_163', 'user_301', 'user_357', 'user_932', 'user_572', 'user_310', 'user_378', 'user_901', 'user_917', 'user_318', 'user_20', 'user_515', 'user_700', 'user_5', 'user_775', 'user_107', 'user_725', 'user_958', 'user_443', 'user_684', 'user_587', 'user_669', 'user_80', 'user_403', 'user_550', 'user_642', 'user_373', 'user_343', 'user_551', 'user_55', 'user_649', 'user_672', 'user_969', 'user_581', 'user_115', 'user_729', 'user_659', 'user_329', 'user_420', 'user_345', 'user_914', 'user_400', 'user_621', 'user_482', 'user_241', 'user_382', 'user_130', 'user_539', 'user_275', 'user_209', 'user_509', 'user_989', 'user_707', 'user_695', 'user_833', 'user_201', 'user_524', 'user_339', 'user_735', 'user_164', 'user_790', 'user_88', 'user_64', 'user_638', 'user_446', 'user_406', 'user_398', 'user_778', 'user_321', 'user_805', 'user_536', 'user_579', 'user_560', 'user_728', 'user_68', 'user_863', 'user_624', 'user_733', 'user_460', 'user_867', 'user_765', 'user_739', 'user_981', 'user_85', 'user_570', 'user_818', 'user_909', 'user_294', 'user_829', 'user_810', 'user_18', 'user_590', 'user_485', 'user_832', 'user_949', 'user_418', 'user_815', 'user_86', 'user_908', 'user_24', 'user_447', 'user_519', 'user_172', 'user_604', 'user_757', 'user_148', 'user_530', 'user_713', 'user_276', 'user_685', 'user_131', 'user_533', 'user_798', 'user_873', 'user_896', 'user_87', 'user_253', 'user_428', 'user_355', 'user_986', 'user_615', 'user_380', 'user_980', 'user_799', 'user_125', 'user_138', 'user_717', 'user_499', 'user_884', 'user_448', 'user_789', 'user_213', 'user_959', 'user_265', 'user_297', 'user_228', 'user_577', 'user_771', 'user_851', 'user_408', 'user_361', 'user_651', 'user_817', 'user_108', 'user_636', 'user_868', 'user_592', 'user_348', 'user_564', 'user_712', 'user_483', 'user_613', 'user_718', 'user_755', 'user_232', 'user_520', 'user_234', 'user_945', 'user_325', 'user_375', 'user_208', 'user_280', 'user_830', 'user_259', 'user_28', 'user_643', 'user_149', 'user_174', 'user_267', 'user_640', 'user_284', 'user_155', 'user_678', 'user_688', 'user_156', 'user_110', 'user_711', 'user_526', 'user_473', 'user_288', 'user_567', 'user_652', 'user_222', 'user_606', 'user_666', 'user_391', 'user_90', 'user_968', 'user_490', 'user_724', 'user_537', 'user_796', 'user_861', 'user_982', 'user_414', 'user_706', 'user_476', 'user_608', 'user_105', 'user_595', 'user_879', 'user_921', 'user_498', 'user_662', 'user_72', 'user_586', 'user_212', 'user_681', 'user_763', 'user_425', 'user_151', 'user_769', 'user_866', 'user_663', 'user_693', 'user_463', 'user_242', 'user_129', 'user_825', 'user_270', 'user_847', 'user_100', 'user_955', 'user_931', 'user_673', 'user_157', 'user_472', 'user_528', 'user_690', 'user_143', 'user_494', 'user_719', 'user_740', 'user_19', 'user_244', 'user_758', 'user_363', 'user_360', 'user_335', 'user_346', 'user_340', 'user_939', 'user_289', 'user_561', 'user_54', 'user_337', 'user_720', 'user_304', 'user_500', 'user_787', 'user_843', 'user_547', 'user_925', 'user_665', 'user_653', 'user_95', 'user_846', 'user_933', 'user_655', 'user_552', 'user_247', 'user_189', 'user_531', 'user_457', 'user_671', 'user_218', 'user_374', 'user_78', 'user_480', 'user_477', 'user_187', 'user_715', 'user_203', 'user_351', 'user_960', 'user_563', 'user_453', 'user_999', 'user_682', 'user_94', 'user_152', 'user_338', 'user_3', 'user_852', 'user_618', 'user_736', 'user_703', 'user_801', 'user_225', 'user_738', 'user_632', 'user_568', 'user_870', 'user_648', 'user_660', 'user_211', 'user_169', 'user_661', 'user_179', 'user_122', 'user_124', 'user_582', 'user_123', 'user_44', 'user_198', 'user_521', 'user_365', 'user_565', 'user_800', 'user_111', 'user_91', 'user_751', 'user_786', 'user_427', 'user_317', 'user_303', 'user_397', 'user_505', 'user_83', 'user_508', 'user_603', 'user_828', 'user_904', 'user_964', 'user_734', 'user_48', 'user_182', 'user_97', 'user_430', 'user_468', 'user_674', 'user_180', 'user_938', 'user_747', 'user_421', 'user_368', 'user_27'}\n"
     ]
    }
   ],
   "source": [
    "prompt = \"Find users interested in education\"\n",
    "rules = extract_rules_from_prompt_llm2(prompt)\n",
    "print(\"Extracted Persona Rule:\", rules)\n",
    "\n",
    "audience = apply_persona_to_graph(G, rules[\"persona\"])\n",
    "print(\"Final Audience:\", audience)"
   ]
  },
  {
   "cell_type": "code",
   "execution_count": 12,
   "id": "cc56aa9e-79f0-41ce-af05-5b1d0d33d6b2",
   "metadata": {},
   "outputs": [
    {
     "name": "stdout",
     "output_type": "stream",
     "text": [
      "Extracted Persona Rule: {'persona': {'age': {'operator': '>', 'value': 21}, 'education_level': 'College Senior', 'tag': ['job prep', 'career']}}\n",
      "Final Audience: {'user_701', 'user_945', 'user_6', 'user_259', 'user_367', 'user_104', 'user_928', 'user_136', 'user_298', 'user_445', 'user_76', 'user_249', 'user_474', 'user_532', 'user_562', 'user_640', 'user_777', 'user_156', 'user_762', 'user_444', 'user_774', 'user_944', 'user_730', 'user_855', 'user_306', 'user_548', 'user_792', 'user_254', 'user_823', 'user_99', 'user_223', 'user_222', 'user_274', 'user_985', 'user_666', 'user_744', 'user_803', 'user_976', 'user_650', 'user_358', 'user_392', 'user_490', 'user_503', 'user_895', 'user_159', 'user_630', 'user_696', 'user_861', 'user_836', 'user_791', 'user_120', 'user_559', 'user_1', 'user_105', 'user_45', 'user_971', 'user_913', 'user_301', 'user_92', 'user_957', 'user_572', 'user_951', 'user_281', 'user_997', 'user_73', 'user_700', 'user_718', 'user_146', 'user_644', 'user_725', 'user_825', 'user_154', 'user_60', 'user_186', 'user_376', 'user_455', 'user_270', 'user_625', 'user_80', 'user_684', 'user_576', 'user_100', 'user_654', 'user_955', 'user_966', 'user_642', 'user_157', 'user_55', 'user_438', 'user_115', 'user_729', 'user_323', 'user_204', 'user_385', 'user_420', 'user_740', 'user_415', 'user_881', 'user_935', 'user_983', 'user_109', 'user_360', 'user_400', 'user_553', 'user_269', 'user_285', 'user_614', 'user_939', 'user_561', 'user_382', 'user_191', 'user_262', 'user_989', 'user_500', 'user_439', 'user_793', 'user_787', 'user_843', 'user_926', 'user_354', 'user_214', 'user_547', 'user_575', 'user_925', 'user_833', 'user_292', 'user_797', 'user_332', 'user_735', 'user_546', 'user_514', 'user_535', 'user_64', 'user_11', 'user_388', 'user_481', 'user_457', 'user_383', 'user_671', 'user_23', 'user_714', 'user_78', 'user_838', 'user_454', 'user_137', 'user_579', 'user_952', 'user_517', 'user_624', 'user_84', 'user_783', 'user_203', 'user_466', 'user_765', 'user_739', 'user_422', 'user_570', 'user_114', 'user_960', 'user_349', 'user_294', 'user_495', 'user_676', 'user_826', 'user_732', 'user_810', 'user_590', 'user_248', 'user_152', 'user_338', 'user_631', 'user_657', 'user_86', 'user_646', 'user_24', 'user_447', 'user_995', 'user_172', 'user_703', 'user_692', 'user_591', 'user_899', 'user_116', 'user_148', 'user_967', 'user_530', 'user_870', 'user_277', 'user_423', 'user_458', 'user_276', 'user_211', 'user_160', 'user_342', 'user_470', 'user_819', 'user_533', 'user_780', 'user_661', 'user_897', 'user_309', 'user_122', 'user_428', 'user_990', 'user_124', 'user_910', 'user_616', 'user_781', 'user_224', 'user_380', 'user_521', 'user_596', 'user_56', 'user_273', 'user_689', 'user_91', 'user_125', 'user_379', 'user_413', 'user_317', 'user_505', 'user_751', 'user_875', 'user_491', 'user_872', 'user_352', 'user_226', 'user_9', 'user_540', 'user_302', 'user_408', 'user_973', 'user_697', 'user_918', 'user_180', 'user_938', 'user_827', 'user_31', 'user_543', 'user_747', 'user_421', 'user_592', 'user_885', 'user_523', 'user_564', 'user_350', 'user_368', 'user_824', 'user_366', 'user_920', 'user_992', 'user_330', 'user_27', 'user_755', 'user_22'}\n"
     ]
    }
   ],
   "source": [
    "prompt = \"Find users about to graduate\"\n",
    "rules = extract_rules_from_prompt_llm2(prompt)\n",
    "print(\"Extracted Persona Rule:\", rules)\n",
    "\n",
    "audience = apply_persona_to_graph(G, rules[\"persona\"])\n",
    "print(\"Final Audience:\", audience)"
   ]
  },
  {
   "cell_type": "code",
   "execution_count": 13,
   "id": "b81a119d-5cce-4afa-b883-b2e41c110e6b",
   "metadata": {},
   "outputs": [],
   "source": [
    "matcher = SemanticMatcher(G)"
   ]
  },
  {
   "cell_type": "code",
   "execution_count": 14,
   "id": "976ce493-a22c-4c1c-8564-d7f050e1bc9d",
   "metadata": {},
   "outputs": [
    {
     "name": "stdout",
     "output_type": "stream",
     "text": [
      "\n",
      "🔍 Semantic matches for: 'finance' (threshold=0.4)\n",
      "→ finance (score: 1.000)\n",
      "→ blockchain (score: 0.447)\n",
      "→ education (score: 0.427)\n",
      "→ career (score: 0.414)\n",
      "→ crypto (score: 0.412)\n",
      "Expanded: ['finance', 'blockchain', 'education', 'career', 'crypto']\n",
      "\n",
      "🔍 Semantic matches for: 'crypto' (threshold=0.4)\n",
      "→ crypto (score: 1.000)\n",
      "→ blockchain (score: 0.576)\n",
      "→ finance (score: 0.412)\n",
      "Expanded: ['crypto', 'blockchain', 'finance']\n"
     ]
    }
   ],
   "source": [
    "expanded = matcher.expand(\"finance\", verbose=True )\n",
    "print(\"Expanded:\", expanded)\n",
    "\n",
    "expanded = matcher.expand(\"crypto\", verbose=True )\n",
    "print(\"Expanded:\", expanded)"
   ]
  },
  {
   "cell_type": "code",
   "execution_count": 15,
   "id": "62429320-ce66-4414-9c40-de64d99e5099",
   "metadata": {},
   "outputs": [
    {
     "name": "stdout",
     "output_type": "stream",
     "text": [
      "crypto               → score: 1.000\n",
      "blockchain           → score: 0.576\n",
      "finance              → score: 0.412\n",
      "technology           → score: 0.336\n",
      "ai                   → score: 0.300\n",
      "tech                 → score: 0.282\n",
      "thriller             → score: 0.282\n",
      "reading              → score: 0.260\n",
      "career               → score: 0.260\n",
      "education            → score: 0.258\n"
     ]
    }
   ],
   "source": [
    "query = \"crypto\"\n",
    "query_embedding = matcher.model.encode(query, convert_to_tensor=True)\n",
    "scores = util.cos_sim(query_embedding, matcher.kg_embeddings)[0]\n",
    "\n",
    "scored_terms = list(zip(matcher.kg_terms, scores.tolist()))\n",
    "scored_terms.sort(key=lambda x: x[1], reverse=True)\n",
    "\n",
    "for term, score in scored_terms[:10]:\n",
    "    print(f\"{term:20s} → score: {score:.3f}\")"
   ]
  },
  {
   "cell_type": "code",
   "execution_count": 16,
   "id": "4e4bbabd-7266-4ebc-83fa-dad33f072103",
   "metadata": {},
   "outputs": [
    {
     "name": "stdout",
     "output_type": "stream",
     "text": [
      "🧠 Raw LLM Output:  {\n",
      "  \"conditions\": {\n",
      "    \"and\": [\n",
      "      {\n",
      "        \"or\": [\n",
      "          {\n",
      "            \"product\": {\n",
      "              \"tag\": [\"crypto\", \"cryptocurrency\"]\n",
      "            }\n",
      "          },\n",
      "          {\n",
      "            \"content\": {\n",
      "              \"genre\": [\"crypto\", \"cryptocurrency\"]\n",
      "            }\n",
      "          }\n",
      "        ]\n",
      "      },\n",
      "      {\n",
      "        \"user\": {\n",
      "          \"age\": {\n",
      "            \">=\": 18\n",
      "          }\n",
      "        }\n",
      "      }\n",
      "    ]\n",
      "  }\n",
      "}\n",
      "🧹 Cleaned JSON: {\n",
      "  \"conditions\": {\n",
      "    \"and\": [\n",
      "      {\n",
      "        \"or\": [\n",
      "          {\n",
      "            \"product\": {\n",
      "              \"tag\": [\"crypto\", \"cryptocurrency\"]\n",
      "            }\n",
      "          },\n",
      "          {\n",
      "            \"content\": {\n",
      "              \"genre\": [\"crypto\", \"cryptocurrency\"]\n",
      "            }\n",
      "          }\n",
      "        ]\n",
      "      },\n",
      "      {\n",
      "        \"user\": {\n",
      "          \"age\": {\n",
      "            \">=\": 18\n",
      "          }\n",
      "        }\n",
      "      }\n",
      "    ]\n",
      "  }\n",
      "}\n",
      "Extracted Rules: {'conditions': {'and': [{'or': [{'product': {'tag': ['crypto', 'cryptocurrency']}}, {'content': {'genre': ['crypto', 'cryptocurrency']}}]}, {'user': {'age': {'>=': 18}}}]}}\n"
     ]
    }
   ],
   "source": [
    "rules_obj = extract_rules_from_prompt_llm3(\"Find crypto enthusiasts\")\n",
    "\n",
    "print(\"Extracted Rules:\", rules_obj)\n",
    "\n",
    "for rule in rules_obj.get(\"rules\", []):\n",
    "    print(f\"\\n🔍 Audience: {rule['name']}\")\n",
    "    audience = apply_logical_rule(G, rule, matcher=matcher)\n",
    "    print(f\"🎯 Users: {audience}\")"
   ]
  },
  {
   "cell_type": "code",
   "execution_count": 17,
   "id": "1969735b-01fb-48d4-a73d-23852733a309",
   "metadata": {},
   "outputs": [
    {
     "name": "stdout",
     "output_type": "stream",
     "text": [
      "Extracted Rules: {'rules': [{'name': 'Crypto Enthusiasts', 'conditions': {'or': [{'field': 'tag', 'in': ['crypto']}, {'field': 'genre', 'in': ['finance', 'tech', 'cryptocurrency']}]}}]}\n",
      "\n",
      "🔍 Audience: Crypto Enthusiasts\n",
      "🎯 Users: {'user_91', 'user_83', 'user_85', 'user_57', 'user_51', 'user_35', 'user_11', 'user_20', 'user_79', 'user_32', 'user_88', 'user_76', 'user_59', 'user_61', 'user_44', 'user_47', 'user_99', 'user_54', 'user_30', 'user_7', 'user_82', 'user_41', 'user_42', 'user_96', 'user_34', 'user_18', 'user_64', 'user_75', 'user_94', 'user_12', 'user_52', 'user_19', 'user_71', 'user_29', 'user_21', 'user_28', 'user_95', 'user_31', 'user_2', 'user_93', 'user_14', 'user_92', 'user_39', 'user_87', 'user_78', 'user_50', 'user_49', 'user_63', 'user_6', 'user_74', 'user_37', 'user_84', 'user_62', 'user_60', 'user_81', 'user_8', 'user_43', 'user_72', 'user_46', 'user_36', 'user_97', 'user_1', 'user_56', 'user_22', 'user_48', 'user_16', 'user_86', 'user_24', 'user_27', 'user_90', 'user_65', 'user_17', 'user_5', 'user_73', 'user_3', 'user_38', 'user_66', 'user_40', 'user_13', 'user_4', 'user_10', 'user_68', 'user_23', 'user_26', 'user_45', 'user_53', 'user_55', 'user_77', 'user_70', 'user_9', 'user_69', 'user_33', 'user_25', 'user_58', 'user_80', 'user_89', 'user_98'}\n"
     ]
    }
   ],
   "source": [
    "rules_obj = extract_rules_from_prompt_llm3(\"Find crypto enthusiasts\")\n",
    "\n",
    "print(\"Extracted Rules:\", rules_obj)\n",
    "\n",
    "for rule in rules_obj.get(\"rules\", []):\n",
    "    print(f\"\\n🔍 Audience: {rule['name']}\")\n",
    "    audience = apply_logical_rule(G, rule, matcher=matcher)\n",
    "    print(f\"🎯 Users: {audience}\")"
   ]
  },
  {
   "cell_type": "code",
   "execution_count": 18,
   "id": "9a4a70d7-06da-46e2-9198-08ada0356bdf",
   "metadata": {},
   "outputs": [
    {
     "name": "stdout",
     "output_type": "stream",
     "text": [
      "Extracted Rules: {'rules': [{'name': 'Crypto Enthusiasts', 'conditions': {'or': [{'field': 'tag', 'in': ['crypto']}, {'field': 'genre', 'in': ['finance', 'tech', 'cryptocurrency']}]}}]}\n",
      "\n",
      "🔍 Audience: Crypto Enthusiasts\n",
      "🎯 Users: {'user_91', 'user_83', 'user_85', 'user_57', 'user_51', 'user_35', 'user_11', 'user_20', 'user_79', 'user_32', 'user_88', 'user_76', 'user_59', 'user_61', 'user_44', 'user_47', 'user_99', 'user_54', 'user_30', 'user_7', 'user_82', 'user_41', 'user_42', 'user_96', 'user_34', 'user_18', 'user_64', 'user_75', 'user_94', 'user_12', 'user_52', 'user_19', 'user_71', 'user_29', 'user_21', 'user_28', 'user_95', 'user_31', 'user_2', 'user_93', 'user_14', 'user_92', 'user_39', 'user_87', 'user_78', 'user_50', 'user_49', 'user_63', 'user_6', 'user_74', 'user_37', 'user_84', 'user_62', 'user_60', 'user_81', 'user_8', 'user_43', 'user_72', 'user_46', 'user_36', 'user_97', 'user_1', 'user_56', 'user_22', 'user_48', 'user_16', 'user_86', 'user_24', 'user_27', 'user_90', 'user_65', 'user_17', 'user_5', 'user_73', 'user_3', 'user_38', 'user_66', 'user_40', 'user_13', 'user_4', 'user_10', 'user_68', 'user_23', 'user_26', 'user_45', 'user_53', 'user_55', 'user_77', 'user_70', 'user_9', 'user_69', 'user_33', 'user_25', 'user_58', 'user_80', 'user_89', 'user_98'}\n"
     ]
    }
   ],
   "source": [
    "rules_obj = extract_rules_from_prompt_llm3(\"Find crypto enthusiasts\")\n",
    "\n",
    "print(\"Extracted Rules:\", rules_obj)\n",
    "\n",
    "for rule in rules_obj.get(\"rules\", []):\n",
    "    print(f\"\\n🔍 Audience: {rule['name']}\")\n",
    "    audience = apply_logical_rule(G, rule, matcher=matcher)\n",
    "    print(f\"🎯 Users: {audience}\")"
   ]
  },
  {
   "cell_type": "code",
   "execution_count": 19,
   "id": "c79678e9-d569-4037-9a4e-f6cf869e367e",
   "metadata": {},
   "outputs": [
    {
     "name": "stdout",
     "output_type": "stream",
     "text": [
      "Extracted Rules: {'rules': [{'name': 'Investors by tags', 'conditions': {'and': [{'or': [{'field': 'tag', 'in': ['investment', 'stocks', 'real_estate']}, {'field': 'genre', 'in': ['finance', 'business']}]}]}}, {'name': 'Young investors by location', 'conditions': {'and': [{'field': 'age', 'operator': '>', 'value': 18}, {'field': 'location', 'in': ['New York', 'California']}, {'or': [{'field': 'tag', 'in': ['investment', 'stocks']}, {'field': 'genre', 'in': ['finance']}]}]}}, {'name': 'Gender-specific investors', 'conditions': {'and': [{'field': 'gender', 'equal_to': 'female'}, {'or': [{'field': 'tag', 'in': ['investment', 'retirement']}, {'field': 'genre', 'in': ['finance', 'economy']}]}]}}]}\n",
      "\n",
      "🔍 Audience: Investors by tags\n",
      "🎯 Users: {'user_91', 'user_83', 'user_85', 'user_57', 'user_51', 'user_35', 'user_11', 'user_20', 'user_79', 'user_32', 'user_88', 'user_76', 'user_59', 'user_61', 'user_44', 'user_47', 'user_99', 'user_54', 'user_30', 'user_7', 'user_82', 'user_41', 'user_42', 'user_96', 'user_34', 'user_18', 'user_64', 'user_75', 'user_94', 'user_15', 'user_12', 'user_52', 'user_19', 'user_71', 'user_29', 'user_21', 'user_28', 'user_95', 'user_31', 'user_2', 'user_93', 'user_14', 'user_92', 'user_39', 'user_87', 'user_78', 'user_50', 'user_49', 'user_63', 'user_6', 'user_74', 'user_37', 'user_84', 'user_62', 'user_60', 'user_81', 'user_8', 'user_43', 'user_72', 'user_46', 'user_36', 'user_97', 'user_1', 'user_56', 'user_22', 'user_48', 'user_16', 'user_86', 'user_24', 'user_27', 'user_90', 'user_65', 'user_17', 'user_73', 'user_3', 'user_38', 'user_66', 'user_40', 'user_13', 'user_4', 'user_10', 'user_68', 'user_23', 'user_26', 'user_45', 'user_53', 'user_55', 'user_77', 'user_70', 'user_9', 'user_69', 'user_33', 'user_25', 'user_58', 'user_80', 'user_89', 'user_98'}\n",
      "\n",
      "🔍 Audience: Young investors by location\n",
      "🎯 Users: set()\n",
      "\n",
      "🔍 Audience: Gender-specific investors\n",
      "🎯 Users: set()\n"
     ]
    }
   ],
   "source": [
    "rules_obj = extract_rules_from_prompt_llm3(\"Find users interested in investing\")\n",
    "\n",
    "print(\"Extracted Rules:\", rules_obj)\n",
    "\n",
    "for rule in rules_obj.get(\"rules\", []):\n",
    "    print(f\"\\n🔍 Audience: {rule['name']}\")\n",
    "    audience = apply_logical_rule(G, rule, matcher=matcher)\n",
    "    print(f\"🎯 Users: {audience}\")"
   ]
  },
  {
   "cell_type": "code",
   "execution_count": 20,
   "id": "89ee255f-8d4a-43b2-bb46-fc371103d2ec",
   "metadata": {},
   "outputs": [
    {
     "name": "stdout",
     "output_type": "stream",
     "text": [
      "Extracted Rules: {'rules': [{'name': 'Users nearing retirement', 'conditions': {'and': [{'field': 'age', 'operator': '>=', 'value': 55}, {'field': 'age', 'operator': '<', 'value': 70}]}}]}\n",
      "\n",
      "🔍 Audience: Users nearing retirement\n",
      "🎯 Users: set()\n"
     ]
    }
   ],
   "source": [
    "rules_obj = extract_rules_from_prompt_llm3(\"Find users who are about to retire\")\n",
    "\n",
    "print(\"Extracted Rules:\", rules_obj)\n",
    "\n",
    "for rule in rules_obj.get(\"rules\", []):\n",
    "    print(f\"\\n🔍 Audience: {rule['name']}\")\n",
    "    audience = apply_logical_rule(G, rule, matcher=matcher)\n",
    "    print(f\"🎯 Users: {audience}\")"
   ]
  },
  {
   "cell_type": "code",
   "execution_count": null,
   "id": "fe32137c-ccda-444b-838a-1863b50ab9ec",
   "metadata": {},
   "outputs": [],
   "source": [
    "\n"
   ]
  },
  {
   "cell_type": "code",
   "execution_count": 11,
   "id": "9cc0f612-7016-48f1-97bc-83e81c226838",
   "metadata": {},
   "outputs": [
    {
     "name": "stdout",
     "output_type": "stream",
     "text": [
      "401\n",
      "{\"error\":{\"message\":\"No auth credentials found\",\"code\":401}}\n"
     ]
    }
   ],
   "source": [
    "import os\n",
    "import requests\n",
    "\n",
    "os.environ[\"OPENROUTER_API_KEY\"] = \"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\"\n",
    "\n",
    "headers = {\n",
    "    \"Authorization\": f\"Bearer {os.getenv('OPENROUTER_API_KEY')}\",\n",
    "    \"Content-Type\": \"application/json\"\n",
    "}\n",
    "\n",
    "payload = {\n",
    "    \"model\": \"mistralai/mixtral-8x7b-instruct\",\n",
    "    \"messages\": [\n",
    "        {\"role\": \"system\", \"content\": \"You are an assistant.\"},\n",
    "        {\"role\": \"user\", \"content\": \"Say hi\"}\n",
    "    ]\n",
    "}\n",
    "\n",
    "res = requests.post(\"https://openrouter.ai/api/v1/chat/completions\", headers=headers, json=payload)\n",
    "print(res.status_code)\n",
    "print(res.text)"
   ]
  },
  {
   "cell_type": "code",
   "execution_count": null,
   "id": "7ac83538-1b04-4127-a571-a217bad96832",
   "metadata": {},
   "outputs": [],
   "source": []
  }
 ],
 "metadata": {
  "kernelspec": {
   "display_name": "Python 3 (ipykernel)",
   "language": "python",
   "name": "python3"
  },
  "language_info": {
   "codemirror_mode": {
    "name": "ipython",
    "version": 3
   },
   "file_extension": ".py",
   "mimetype": "text/x-python",
   "name": "python",
   "nbconvert_exporter": "python",
   "pygments_lexer": "ipython3",
   "version": "3.12.9"
  }
 },
 "nbformat": 4,
 "nbformat_minor": 5
}
